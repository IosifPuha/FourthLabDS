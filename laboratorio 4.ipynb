{
 "cells": [
  {
   "cell_type": "markdown",
   "metadata": {},
   "source": [
    "# METODI PREDITTIVI\n",
    "\n",
    "\n",
    "09/04/2024"
   ]
  },
  {
   "cell_type": "code",
   "execution_count": 1,
   "metadata": {
    "id": "8RBBmMNQhql2",
    "tags": []
   },
   "outputs": [],
   "source": [
    "import pandas as pd \n",
    "import matplotlib.pyplot as plt \n",
    "import numpy as np\n",
    "import scipy.stats as stats\n",
    "import sklearn"
   ]
  },
  {
   "cell_type": "markdown",
   "metadata": {
    "id": "G1R7cBbvzpt9"
   },
   "source": [
    "# Parte 1. Regressione Lineare "
   ]
  },
  {
   "cell_type": "markdown",
   "metadata": {
    "id": "DM8a4SdImrHm"
   },
   "source": [
    "Utilizziamo la tabella integrate_titles che abbiamo prodotto durante il primo laboratorio. Vi ricordo che abbiamo effettuato integrazione di due dataset provenienti da Disney+ e Netflix, contenenti informazioni circa film e serie tv rilasciate sulle due piattaforme di streaming. Il dataset integrato è stato pulito e risulta quindi pronto per ulteriori analisi.\n",
    "\n",
    "Importiamo il dataset:"
   ]
  },
  {
   "cell_type": "code",
   "execution_count": 2,
   "metadata": {
    "id": "PnExuBeH_YAz",
    "tags": []
   },
   "outputs": [],
   "source": [
    "integrate_titles = pd.read_csv('integrate_titles_3.csv')"
   ]
  },
  {
   "cell_type": "markdown",
   "metadata": {
    "id": "xTJyzFFimxXp"
   },
   "source": [
    "visualizziamo il dataset"
   ]
  },
  {
   "cell_type": "code",
   "execution_count": 3,
   "metadata": {
    "tags": []
   },
   "outputs": [
    {
     "data": {
      "text/html": [
       "<div>\n",
       "<style scoped>\n",
       "    .dataframe tbody tr th:only-of-type {\n",
       "        vertical-align: middle;\n",
       "    }\n",
       "\n",
       "    .dataframe tbody tr th {\n",
       "        vertical-align: top;\n",
       "    }\n",
       "\n",
       "    .dataframe thead th {\n",
       "        text-align: right;\n",
       "    }\n",
       "</style>\n",
       "<table border=\"1\" class=\"dataframe\">\n",
       "  <thead>\n",
       "    <tr style=\"text-align: right;\">\n",
       "      <th></th>\n",
       "      <th>Unnamed: 0.2</th>\n",
       "      <th>Unnamed: 0.1</th>\n",
       "      <th>Unnamed: 0</th>\n",
       "      <th>id</th>\n",
       "      <th>title</th>\n",
       "      <th>type</th>\n",
       "      <th>release_year</th>\n",
       "      <th>age_certification</th>\n",
       "      <th>runtime</th>\n",
       "      <th>genres</th>\n",
       "      <th>...</th>\n",
       "      <th>director</th>\n",
       "      <th>country</th>\n",
       "      <th>date_added</th>\n",
       "      <th>rating</th>\n",
       "      <th>duration</th>\n",
       "      <th>year</th>\n",
       "      <th>month</th>\n",
       "      <th>day</th>\n",
       "      <th>imdb_score_quant</th>\n",
       "      <th>release_year_quant</th>\n",
       "    </tr>\n",
       "  </thead>\n",
       "  <tbody>\n",
       "    <tr>\n",
       "      <th>0</th>\n",
       "      <td>1</td>\n",
       "      <td>1</td>\n",
       "      <td>1</td>\n",
       "      <td>tm82169</td>\n",
       "      <td>Rocky</td>\n",
       "      <td>MOVIE</td>\n",
       "      <td>1976</td>\n",
       "      <td>PG</td>\n",
       "      <td>119</td>\n",
       "      <td>['drama', 'sport']</td>\n",
       "      <td>...</td>\n",
       "      <td>John G. Avildsen</td>\n",
       "      <td>United States</td>\n",
       "      <td>2019-08-01</td>\n",
       "      <td>PG</td>\n",
       "      <td>120 min</td>\n",
       "      <td>2019.0</td>\n",
       "      <td>8.0</td>\n",
       "      <td>1.0</td>\n",
       "      <td>EXCELLENT</td>\n",
       "      <td>VERY OLD</td>\n",
       "    </tr>\n",
       "    <tr>\n",
       "      <th>1</th>\n",
       "      <td>2</td>\n",
       "      <td>2</td>\n",
       "      <td>2</td>\n",
       "      <td>tm17823</td>\n",
       "      <td>Grease</td>\n",
       "      <td>MOVIE</td>\n",
       "      <td>1978</td>\n",
       "      <td>PG</td>\n",
       "      <td>110</td>\n",
       "      <td>['comedy', 'romance']</td>\n",
       "      <td>...</td>\n",
       "      <td>Randal Kleiser</td>\n",
       "      <td>United States</td>\n",
       "      <td>2019-11-01</td>\n",
       "      <td>PG</td>\n",
       "      <td>110 min</td>\n",
       "      <td>2019.0</td>\n",
       "      <td>11.0</td>\n",
       "      <td>1.0</td>\n",
       "      <td>VERY GOOD</td>\n",
       "      <td>VERY OLD</td>\n",
       "    </tr>\n",
       "    <tr>\n",
       "      <th>2</th>\n",
       "      <td>3</td>\n",
       "      <td>3</td>\n",
       "      <td>3</td>\n",
       "      <td>tm69975</td>\n",
       "      <td>Rocky II</td>\n",
       "      <td>MOVIE</td>\n",
       "      <td>1979</td>\n",
       "      <td>PG</td>\n",
       "      <td>119</td>\n",
       "      <td>['drama', 'sport']</td>\n",
       "      <td>...</td>\n",
       "      <td>Sylvester Stallone</td>\n",
       "      <td>United States</td>\n",
       "      <td>2019-08-01</td>\n",
       "      <td>PG</td>\n",
       "      <td>119 min</td>\n",
       "      <td>2019.0</td>\n",
       "      <td>8.0</td>\n",
       "      <td>1.0</td>\n",
       "      <td>VERY GOOD</td>\n",
       "      <td>VERY OLD</td>\n",
       "    </tr>\n",
       "    <tr>\n",
       "      <th>3</th>\n",
       "      <td>4</td>\n",
       "      <td>4</td>\n",
       "      <td>4</td>\n",
       "      <td>tm127384</td>\n",
       "      <td>Monty Python and the Holy Grail</td>\n",
       "      <td>MOVIE</td>\n",
       "      <td>1975</td>\n",
       "      <td>PG</td>\n",
       "      <td>91</td>\n",
       "      <td>['fantasy', 'comedy']</td>\n",
       "      <td>...</td>\n",
       "      <td>Terry Gilliam, Terry Jones</td>\n",
       "      <td>United Kingdom</td>\n",
       "      <td>2019-01-02</td>\n",
       "      <td>PG</td>\n",
       "      <td>92 min</td>\n",
       "      <td>2019.0</td>\n",
       "      <td>1.0</td>\n",
       "      <td>2.0</td>\n",
       "      <td>EXCELLENT</td>\n",
       "      <td>VERY OLD</td>\n",
       "    </tr>\n",
       "    <tr>\n",
       "      <th>4</th>\n",
       "      <td>5</td>\n",
       "      <td>5</td>\n",
       "      <td>5</td>\n",
       "      <td>ts22164</td>\n",
       "      <td>Monty Python's Flying Circus</td>\n",
       "      <td>SHOW</td>\n",
       "      <td>1969</td>\n",
       "      <td>TV-14</td>\n",
       "      <td>30</td>\n",
       "      <td>['comedy', 'european']</td>\n",
       "      <td>...</td>\n",
       "      <td>NaN</td>\n",
       "      <td>United Kingdom</td>\n",
       "      <td>2018-10-02</td>\n",
       "      <td>TV-14</td>\n",
       "      <td>4 Seasons</td>\n",
       "      <td>2018.0</td>\n",
       "      <td>10.0</td>\n",
       "      <td>2.0</td>\n",
       "      <td>EXCELLENT</td>\n",
       "      <td>VERY OLD</td>\n",
       "    </tr>\n",
       "  </tbody>\n",
       "</table>\n",
       "<p>5 rows × 27 columns</p>\n",
       "</div>"
      ],
      "text/plain": [
       "   Unnamed: 0.2  Unnamed: 0.1  Unnamed: 0        id  \\\n",
       "0             1             1           1   tm82169   \n",
       "1             2             2           2   tm17823   \n",
       "2             3             3           3   tm69975   \n",
       "3             4             4           4  tm127384   \n",
       "4             5             5           5   ts22164   \n",
       "\n",
       "                             title   type  release_year age_certification  \\\n",
       "0                            Rocky  MOVIE          1976                PG   \n",
       "1                           Grease  MOVIE          1978                PG   \n",
       "2                         Rocky II  MOVIE          1979                PG   \n",
       "3  Monty Python and the Holy Grail  MOVIE          1975                PG   \n",
       "4     Monty Python's Flying Circus   SHOW          1969             TV-14   \n",
       "\n",
       "   runtime                  genres  ...                    director  \\\n",
       "0      119      ['drama', 'sport']  ...            John G. Avildsen   \n",
       "1      110   ['comedy', 'romance']  ...              Randal Kleiser   \n",
       "2      119      ['drama', 'sport']  ...          Sylvester Stallone   \n",
       "3       91   ['fantasy', 'comedy']  ...  Terry Gilliam, Terry Jones   \n",
       "4       30  ['comedy', 'european']  ...                         NaN   \n",
       "\n",
       "          country  date_added  rating   duration    year  month  day  \\\n",
       "0   United States  2019-08-01      PG    120 min  2019.0    8.0  1.0   \n",
       "1   United States  2019-11-01      PG    110 min  2019.0   11.0  1.0   \n",
       "2   United States  2019-08-01      PG    119 min  2019.0    8.0  1.0   \n",
       "3  United Kingdom  2019-01-02      PG     92 min  2019.0    1.0  2.0   \n",
       "4  United Kingdom  2018-10-02   TV-14  4 Seasons  2018.0   10.0  2.0   \n",
       "\n",
       "  imdb_score_quant release_year_quant  \n",
       "0        EXCELLENT           VERY OLD  \n",
       "1        VERY GOOD           VERY OLD  \n",
       "2        VERY GOOD           VERY OLD  \n",
       "3        EXCELLENT           VERY OLD  \n",
       "4        EXCELLENT           VERY OLD  \n",
       "\n",
       "[5 rows x 27 columns]"
      ]
     },
     "execution_count": 3,
     "metadata": {},
     "output_type": "execute_result"
    }
   ],
   "source": [
    "integrate_titles.head()"
   ]
  },
  {
   "cell_type": "code",
   "execution_count": 4,
   "metadata": {
    "id": "Y6tAnKq5mxn0",
    "tags": []
   },
   "outputs": [
    {
     "name": "stdout",
     "output_type": "stream",
     "text": [
      "<class 'pandas.core.frame.DataFrame'>\n",
      "RangeIndex: 4170 entries, 0 to 4169\n",
      "Data columns (total 27 columns):\n",
      " #   Column                Non-Null Count  Dtype  \n",
      "---  ------                --------------  -----  \n",
      " 0   Unnamed: 0.2          4170 non-null   int64  \n",
      " 1   Unnamed: 0.1          4170 non-null   int64  \n",
      " 2   Unnamed: 0            4170 non-null   int64  \n",
      " 3   id                    4170 non-null   object \n",
      " 4   title                 4170 non-null   object \n",
      " 5   type                  4170 non-null   object \n",
      " 6   release_year          4170 non-null   int64  \n",
      " 7   age_certification     2593 non-null   object \n",
      " 8   runtime               4170 non-null   int64  \n",
      " 9   genres                4170 non-null   object \n",
      " 10  production_countries  4170 non-null   object \n",
      " 11  seasons               1588 non-null   float64\n",
      " 12  imdb_id               4170 non-null   object \n",
      " 13  imdb_score            4170 non-null   float64\n",
      " 14  imdb_votes            4165 non-null   float64\n",
      " 15  tmdb_popularity       4139 non-null   float64\n",
      " 16  tmdb_score            4068 non-null   float64\n",
      " 17  director              2634 non-null   object \n",
      " 18  country               3790 non-null   object \n",
      " 19  date_added            4169 non-null   object \n",
      " 20  rating                4168 non-null   object \n",
      " 21  duration              4169 non-null   object \n",
      " 22  year                  4169 non-null   float64\n",
      " 23  month                 4169 non-null   float64\n",
      " 24  day                   4169 non-null   float64\n",
      " 25  imdb_score_quant      4170 non-null   object \n",
      " 26  release_year_quant    4170 non-null   object \n",
      "dtypes: float64(8), int64(5), object(14)\n",
      "memory usage: 879.7+ KB\n",
      "<class 'pandas.core.frame.DataFrame'>\n",
      "Index: 4068 entries, 0 to 4169\n",
      "Data columns (total 27 columns):\n",
      " #   Column                Non-Null Count  Dtype  \n",
      "---  ------                --------------  -----  \n",
      " 0   Unnamed: 0.2          4068 non-null   int64  \n",
      " 1   Unnamed: 0.1          4068 non-null   int64  \n",
      " 2   Unnamed: 0            4068 non-null   int64  \n",
      " 3   id                    4068 non-null   object \n",
      " 4   title                 4068 non-null   object \n",
      " 5   type                  4068 non-null   object \n",
      " 6   release_year          4068 non-null   int64  \n",
      " 7   age_certification     2552 non-null   object \n",
      " 8   runtime               4068 non-null   int64  \n",
      " 9   genres                4068 non-null   object \n",
      " 10  production_countries  4068 non-null   object \n",
      " 11  seasons               1543 non-null   float64\n",
      " 12  imdb_id               4068 non-null   object \n",
      " 13  imdb_score            4068 non-null   float64\n",
      " 14  imdb_votes            4063 non-null   float64\n",
      " 15  tmdb_popularity       4068 non-null   float64\n",
      " 16  tmdb_score            4068 non-null   float64\n",
      " 17  director              2579 non-null   object \n",
      " 18  country               3717 non-null   object \n",
      " 19  date_added            4067 non-null   object \n",
      " 20  rating                4066 non-null   object \n",
      " 21  duration              4067 non-null   object \n",
      " 22  year                  4067 non-null   float64\n",
      " 23  month                 4067 non-null   float64\n",
      " 24  day                   4067 non-null   float64\n",
      " 25  imdb_score_quant      4068 non-null   object \n",
      " 26  release_year_quant    4068 non-null   object \n",
      "dtypes: float64(8), int64(5), object(14)\n",
      "memory usage: 889.9+ KB\n"
     ]
    }
   ],
   "source": [
    "integrate_titles.info()\n",
    "#togliamo le righe che hanno valori nulli su tmdb_score\n",
    "integrate_titles=integrate_titles.dropna(axis=0, subset=['tmdb_score'])\n",
    "integrate_titles.info()"
   ]
  },
  {
   "cell_type": "markdown",
   "metadata": {
    "id": "3annwavjm6p6"
   },
   "source": [
    "Supponiamo di voler stimare una funzione che preveda l'imdb_score a partire dallo score tmdb. Prima di tutto, possiamo utilizzare una rappresentazione grafica per verificare se le due features siano correlate, e se sia quindi possibile utilizzare una di queste features per predire l'altra. \n"
   ]
  },
  {
   "cell_type": "code",
   "execution_count": 5,
   "metadata": {
    "id": "ftv9Xxn5nMhV",
    "tags": []
   },
   "outputs": [
    {
     "data": {
      "text/plain": [
       "Text(0, 0.5, 'imdb_score')"
      ]
     },
     "execution_count": 5,
     "metadata": {},
     "output_type": "execute_result"
    },
    {
     "data": {
      "image/png": "[encoded data removed]",
      "text/plain": [
       "<Figure size 640x480 with 1 Axes>"
      ]
     },
     "metadata": {},
     "output_type": "display_data"
    }
   ],
   "source": [
    "plt.scatter(integrate_titles['tmdb_score'], integrate_titles['imdb_score'])\n",
    "plt.title('scores')\n",
    "plt.xlabel('tmdb_score')\n",
    "plt.ylabel('imdb_score')"
   ]
  },
  {
   "cell_type": "markdown",
   "metadata": {
    "id": "xmZDpNCwnpow"
   },
   "source": [
    "verifichiamo la correlazione utilizzando il coefficiente di correlazione di Pearson (r). \n",
    "\n",
    "Vi ricordo che r ha valori nell'intervallo [-1,1].  \n",
    "\n",
    "Inoltre:\n",
    "\n",
    "r in [0,0.3] debole correlazione;\n",
    "\n",
    "r in [0.3,0.7] moderata correlazione;\n",
    "\n",
    "r in [0.7,1] forte correlazione; \n",
    "\n",
    "i valori negativi del coefficiente di correlazione indicano una correlazione inversa, cioè all'aumentare di una caratteristica diminuisce l'altra e viceversa. \n"
   ]
  },
  {
   "cell_type": "code",
   "execution_count": 6,
   "metadata": {
    "id": "Hc7G46ZzoHkP",
    "tags": []
   },
   "outputs": [
    {
     "name": "stdout",
     "output_type": "stream",
     "text": [
      "Coefficiente di Pearson:  0.591232934435519\n"
     ]
    }
   ],
   "source": [
    "correlation, p_value = stats.pearsonr(integrate_titles['tmdb_score'],integrate_titles['imdb_score'])\n",
    "print(\"Coefficiente di Pearson: \", correlation)"
   ]
  },
  {
   "cell_type": "markdown",
   "metadata": {
    "id": "VrySKCy7oWFD"
   },
   "source": [
    "plottiamo in falsi colori"
   ]
  },
  {
   "cell_type": "code",
   "execution_count": 7,
   "metadata": {
    "id": "qod0pJyUoXxH",
    "tags": []
   },
   "outputs": [
    {
     "data": {
      "image/png": "[encoded data removed]",
      "text/plain": [
       "<Figure size 640x480 with 2 Axes>"
      ]
     },
     "metadata": {},
     "output_type": "display_data"
    }
   ],
   "source": [
    "# Calcoliamo una rappresentazione a griglia della densità dei punti\n",
    "x = integrate_titles['tmdb_score']\n",
    "y = integrate_titles['imdb_score']\n",
    "heatmap, xedges, yedges = np.histogram2d(x, y, bins=50)\n",
    "extent = [xedges[0], xedges[-1], yedges[0], yedges[-1]]\n",
    "\n",
    "# Plottiamo il grafico a dispersione in falsi colori\n",
    "plt.imshow(heatmap.T, extent=extent, origin='lower', cmap='viridis')\n",
    "plt.colorbar(label='Density')\n",
    "plt.title('Density Plot of Scores')\n",
    "plt.xlabel('tmdb_score')\n",
    "plt.ylabel('imdb_score')\n",
    "plt.show()"
   ]
  },
  {
   "cell_type": "markdown",
   "metadata": {
    "id": "iokaYFoinMEK"
   },
   "source": [
    "Ora ci chiediamo, quale modello di machine learning possiamo utilizzare per stimare una funzione che preveda l'imdb_score a partire dallo score tmdb. \n",
    "\n",
    "Dobbiamo determinare una relazione tra predittori e una variabile di risposta (che possiamo considerare continua).\n",
    "\n",
    "Possiamo quindi utilizzare un modello di Regressione lineare.\n",
    "\n",
    "Ricordate che dobbiamo dividere il dataset a disposizione in due diversi gruppi:\n",
    "\n",
    "* Training Set -> porzione di dati che utilizziamo per il training del nostro modello di regressione lineare;\n",
    "\n",
    "* Validation Set -> porzione di dati che utilizziamo per valutare il nostro modello precedentemente allenato.\n",
    "\n",
    "Non esiste un unico modo per dividere il dataset in training e validation, normalmente, si utilizza un random split con una certa percentuale (per esempio 70/30 per training/test).\n",
    "\n",
    "\n",
    "Usiamo la libreria scikit-learn, lo schema che dovrete usare e' il seguente:\n",
    "\n",
    "1. Definire le caratteristiche da usare;\n",
    "2. Definire X e y; \n",
    "3. Dividere il dataset in training e validation; \n",
    "4. Istanziare un oggetto della classe LinearRegression;\n",
    "5. Allenare usando la funzione fit invocata sull'oggetto istanziato (passando il training set!);\n",
    "6. Visualizzare i coefficienti imparati: useremo gli attributi *intercept_=* e *coef_* sull'oggetto ottenuto come output della funzione fit.\n",
    "\n",
    "In scikit-learn esiste la funzione:\n",
    "\n",
    "    X_train, X_valid, y_train, y_valid = train_test_split(X, y)\n",
    "\n",
    "che effettua per noi lo splitting."
   ]
  },
  {
   "cell_type": "code",
   "execution_count": 8,
   "metadata": {
    "id": "8A5M06qWp7gK",
    "tags": []
   },
   "outputs": [],
   "source": [
    "from sklearn.model_selection import train_test_split\n",
    "#codice qui \n",
    "# Definiamo le caratteristiche da usare\n",
    "X = integrate_titles[['tmdb_score']] #tmdb_score sarà il nostro predittore\n",
    "y = integrate_titles['imdb_score'] #imdb_score sarà la variabile da predire (target)\n",
    "\n",
    "# Dividiamo il dataset in training set e validation set usando la proporzione 70/30\n",
    "X_train, X_valid, y_train, y_valid = train_test_split(X, y, test_size=0.3, random_state=42)\n"
   ]
  },
  {
   "cell_type": "markdown",
   "metadata": {
    "id": "DDO-IYAAp-D-"
   },
   "source": [
    "adesso implementiamo la regressione"
   ]
  },
  {
   "cell_type": "code",
   "execution_count": 9,
   "metadata": {
    "id": "iGFPhrJzp9jD",
    "tags": []
   },
   "outputs": [
    {
     "name": "stdout",
     "output_type": "stream",
     "text": [
      "Intercept: 2.470772316986527\n",
      "Coefficiente tmdb_score 0.609145669459637\n"
     ]
    }
   ],
   "source": [
    "from sklearn.linear_model import LinearRegression\n",
    "# Istanziamo l'oggetto della classe LinearRegression\n",
    "regressor = LinearRegression()\n",
    "\n",
    "# Alleniamo il modello passando il training set\n",
    "regressor.fit(X_train, y_train)\n",
    "\n",
    "# Visualizziamo i coefficienti imparati\n",
    "print(\"Intercept:\", regressor.intercept_)\n",
    "#usiamo l'indexing e prendiamo il primo (e unico) coefficiente, ma se avessimo più variabili predittive (altre oltre imdb_score)\n",
    "#potremmo accedere ai coefficienti relativi a tutte in questo array\n",
    "print(\"Coefficiente tmdb_score\", regressor.coef_[0]) "
   ]
  },
  {
   "cell_type": "markdown",
   "metadata": {
    "id": "BMHzoNKsryYU",
    "tags": []
   },
   "source": [
    "il risultato ottenuto sembra indicare che, ad un aumento di una unità del tmdb_score sia associato un aumento di circa 0.609 nell'imdb_score previsto"
   ]
  },
  {
   "cell_type": "markdown",
   "metadata": {
    "id": "BMHzoNKsryYU",
    "tags": []
   },
   "source": [
    "Adesso possiamo usare il modello imparato, per effettuare predizioni sul validation set. E' sufficiente usare la funzione predict sull'oggetto restituito da fit, passando come argomento x_valid"
   ]
  },
  {
   "cell_type": "code",
   "execution_count": 10,
   "metadata": {
    "id": "eJJ_Z7xSrzfj",
    "tags": []
   },
   "outputs": [
    {
     "data": {
      "text/plain": [
       "<matplotlib.collections.PathCollection at 0x7f478cee1b40>"
      ]
     },
     "execution_count": 10,
     "metadata": {},
     "output_type": "execute_result"
    },
    {
     "data": {
      "image/png": "[encoded data removed]",
      "text/plain": [
       "<Figure size 640x480 with 1 Axes>"
      ]
     },
     "metadata": {},
     "output_type": "display_data"
    }
   ],
   "source": [
    "y_hat =regressor.predict(X_valid)\n",
    "\n",
    "plt.scatter(X_valid,y_hat)\n",
    "plt.scatter(X_valid,y_valid,c='r',alpha=0.2)"
   ]
  },
  {
   "cell_type": "markdown",
   "metadata": {
    "id": "WY0lMQqsr7Vv"
   },
   "source": [
    "Ora, come possiamo stimare la precisione della funzione che abbiamo imparato?\n",
    "\n",
    "Sappiamo che non esiste una soluzione perfetta, ma possiamo trovare la soluzione migliore possibile, con i dati a disposizione. Per trovarla, useremo stime degli errori.\n",
    "\n",
    "Abbiamo visto che ci sono tre metriche per valutare i modelli a regressione di machine learning:\n",
    "\n",
    "lo scarto medio assoluto (MAE - Mean Absolute Error);\n",
    "l’errore quadratico medio (MSE - Mean Squared Error);\n",
    "la radice dell’errore quadratico medio (RMSE - Root of Mean Squared Error).\n",
    "ESERCIZIO: scrivete una funzione che implementi ciascuna delle tre metriche sopra descritte."
   ]
  },
  {
   "cell_type": "code",
   "execution_count": null,
   "metadata": {
    "id": "BgqWVd1jsBCJ"
   },
   "outputs": [],
   "source": [
    "def MSE (y_pred,y_true):\n",
    "\n",
    "  #codice qui \n",
    "\n",
    "def MAE (y_pred,y_true):\n",
    "\n",
    "  #codice qui \n",
    "\n",
    "\n",
    "def RMSE (y_pred,y_true):\n",
    "\n",
    " #codice qui "
   ]
  },
  {
   "cell_type": "markdown",
   "metadata": {
    "id": "3B82RzOjsJvg"
   },
   "source": [
    "usate le tre funzioni appena definite, per calcolare le tre metriche sul modello di regressione lineare appena ottenuto (sul validation set)"
   ]
  },
  {
   "cell_type": "code",
   "execution_count": null,
   "metadata": {
    "id": "Jlpx-AETsJ2z"
   },
   "outputs": [],
   "source": [
    "#MAE\n",
    "\n",
    "\n",
    "\n",
    "#MSE\n",
    "\n",
    "\n",
    "#RMSE\n"
   ]
  },
  {
   "cell_type": "markdown",
   "metadata": {
    "id": "8yiBg4ocsW7B"
   },
   "source": [
    "possiamo anche utilizzare le funzioni messe a disposizione da scikit-learn."
   ]
  },
  {
   "cell_type": "code",
   "execution_count": null,
   "metadata": {
    "id": "ia_3zZSgsWcM"
   },
   "outputs": [],
   "source": [
    "import sklearn.metrics as metrics \n",
    "print ('MAE:', metrics.mean_absolute_error(y_valid, y_pred))\n",
    "print ('MSE:', metrics.mean_squared_error(y_valid, y_pred))\n",
    "print ('RMSE:', np.sqrt(metrics.mean_squared_error(y_valid, y_pred)))"
   ]
  },
  {
   "cell_type": "markdown",
   "metadata": {
    "id": "Kr08jFpjslhP"
   },
   "source": [
    "Come faccio a sapere se questo risultato e' un buon risultato oppure no?\n",
    "\n",
    "Determiniamo il modello nullo.\n",
    "\n",
    "il modello nullo rappresenta in modo efficace il fatto di tirare a indovinare più e più volte il risultato atteso, e vedere l’efficacia del modello.\n",
    "\n",
    "Nella regressione, possiamo sostituire tutti i valori della feature imdb_score con la media sull'intero dataset."
   ]
  },
  {
   "cell_type": "code",
   "execution_count": null,
   "metadata": {
    "id": "EGmXwSkAsl7t"
   },
   "outputs": [],
   "source": [
    "#calcolate lo score medio\n",
    "\n",
    "\n",
    "# create la nuova x con lo stesso numero di campioni del validation set originale, e con tutti i valori uguali al valore medio dello score appena calcolato\n",
    "null_model_y = [mean_imdb_score] * y_valid.shape[0]\n",
    "\n",
    "\n",
    "#stampate gli errori"
   ]
  },
  {
   "cell_type": "markdown",
   "metadata": {
    "id": "_zwOwuF2tTxp"
   },
   "source": [
    "ESERCIZIO.\n",
    "\n",
    "* Adesso, utilizzate come test set la tabella amazon_titles. \n",
    "\n",
    "1. Pulite e preparate il dataset;\n",
    "\n",
    "2. Applicate il modello di regressione imparato;\n",
    "\n",
    "3. Sfruttate errori a dispozione e modello nullo per determinare se riusciamo a generalizzare bene verso questo set di dati."
   ]
  },
  {
   "cell_type": "code",
   "execution_count": null,
   "metadata": {
    "id": "60Z0_abhtogF"
   },
   "outputs": [],
   "source": [
    "#leggiamo e visualizziamo\n"
   ]
  },
  {
   "cell_type": "code",
   "execution_count": null,
   "metadata": {
    "id": "CzP_EDmqtyB7"
   },
   "outputs": [],
   "source": [
    "#verifichiamo elementi nulli ed eliminamo\n"
   ]
  },
  {
   "cell_type": "code",
   "execution_count": null,
   "metadata": {
    "id": "ey2wD5GNt67-"
   },
   "outputs": [],
   "source": [
    "#applichiamo il modello imparato\n",
    "\n",
    "#visualizziamo"
   ]
  },
  {
   "cell_type": "markdown",
   "metadata": {
    "id": "uAio9TnEvL-E"
   },
   "source": [
    "calcoliamo gli errori corrispondenti"
   ]
  },
  {
   "cell_type": "code",
   "execution_count": null,
   "metadata": {
    "id": "EFhSjTIPvNrg"
   },
   "outputs": [],
   "source": [
    "#codice qui, usate le funzioni scikit-learn"
   ]
  },
  {
   "cell_type": "code",
   "execution_count": null,
   "metadata": {
    "id": "0Sc_H46Hu-vv"
   },
   "outputs": [],
   "source": [
    "#calcolate lo score medio\n",
    "\n",
    "# create la nuova x con lo stesso numero di campioni del validation set originale, e con tutti i valori uguali al valore medio dello score appena calcolato\n",
    "\n",
    "\n",
    "#calcoliamo errori"
   ]
  },
  {
   "cell_type": "markdown",
   "metadata": {
    "id": "6Tjm6Ao0vYet"
   },
   "source": [
    "cosa pensate del modello imparato? traete le opportune conclusioni"
   ]
  },
  {
   "cell_type": "markdown",
   "metadata": {
    "id": "Uauc51Tt0cAt"
   },
   "source": [
    "# Parte 2. Regressione Logistica "
   ]
  },
  {
   "cell_type": "markdown",
   "metadata": {
    "id": "FTGrgQx2vsOx"
   },
   "source": [
    "Adesso, proviamo a risolvere un problema di classificazione, utilizzando la regressione logistica, come visto a lezione. \n",
    "\n",
    "\n",
    "Riuscite a trasformare il nostro problema di stimare imdb_score a partire dal tmdb_score, da regressione a classificazione? \n",
    "\n",
    "**tip** create una nuova colonna e provate a creare la caratteristica *above_average* che sia:\n",
    "\n",
    "- 1 Se imdb_score > mean(imdb_score);\n",
    "- 0 altrimenti. \n",
    "\n",
    "Usiamo il dataset integrate_titles come fatto in precedenza. "
   ]
  },
  {
   "cell_type": "code",
   "execution_count": null,
   "metadata": {
    "id": "usJ6ptdAwL4O"
   },
   "outputs": [],
   "source": [
    "#creiamo la colonna integrate_titles['above_average']"
   ]
  },
  {
   "cell_type": "code",
   "execution_count": null,
   "metadata": {
    "id": "SnHwmgxrv6Sk"
   },
   "outputs": [],
   "source": [
    "from sklearn.linear_model import LogisticRegression"
   ]
  },
  {
   "cell_type": "markdown",
   "metadata": {
    "id": "GZtfiDj6wCor"
   },
   "source": [
    "Passi da eseguire (molto simile a quanto gia' fatto):\n",
    "\n",
    "1. Splittare dataset in training e test;\n",
    "2. Istanziare un oggetto della classe LogisticRegression;\n",
    "3. Fare fit su training set;\n",
    "4. Usare la funzione score che fornisce l'accuratezza intesa come numero di volte in cui abbiamo predetto correttamente la classe rispetto al totale."
   ]
  },
  {
   "cell_type": "code",
   "execution_count": null,
   "metadata": {
    "id": "XLpLiPFSKivg"
   },
   "outputs": [],
   "source": [
    "from sklearn.linear_model import LogisticRegression\n",
    "#codice qui"
   ]
  },
  {
   "cell_type": "markdown",
   "metadata": {
    "id": "NGdfF2zXLmMC"
   },
   "source": [
    "Benissimo, siamo riusciti a raggiungere un'accuratezza del 80% con un modello di logistic regression. "
   ]
  },
  {
   "cell_type": "markdown",
   "metadata": {
    "id": "2Gnli05zwwJu"
   },
   "source": [
    "quale sarebbe un opportuno modello nullo per confrontare?\n",
    "\n",
    "possiamo immaginare di predire sempre la classe più comune. Verificate quale sia, e deducete score per il modello nullo. "
   ]
  },
  {
   "cell_type": "code",
   "execution_count": null,
   "metadata": {
    "id": "cSs89P1lw4n9"
   },
   "outputs": [],
   "source": [
    "#codice qui per modello nullo"
   ]
  },
  {
   "cell_type": "markdown",
   "metadata": {
    "id": "k0Eu_wxAxDMa"
   },
   "source": [
    "traete le vostre conclusioni."
   ]
  },
  {
   "cell_type": "markdown",
   "metadata": {
    "id": "8GJ8Fpl0LsNs"
   },
   "source": [
    "Compito per casa.\n",
    "\n",
    "Provate ad utilizzare il dataset di amazon come test, e ripetete tutto quanto visto per la tabella integrata di netflix e disney plus. "
   ]
  },
  {
   "cell_type": "code",
   "execution_count": null,
   "metadata": {
    "id": "Yd5PBZaUxM_v"
   },
   "outputs": [],
   "source": [
    "#applichiamo il modello imparato"
   ]
  }
 ],
 "metadata": {
  "colab": {
   "provenance": []
  },
  "kernelspec": {
   "display_name": "Python 3 (ipykernel)",
   "language": "python",
   "name": "python3"
  },
  "language_info": {
   "codemirror_mode": {
    "name": "ipython",
    "version": 3
   },
   "file_extension": ".py",
   "mimetype": "text/x-python",
   "name": "python",
   "nbconvert_exporter": "python",
   "pygments_lexer": "ipython3",
   "version": "3.10.12"
  }
 },
 "nbformat": 4,
 "nbformat_minor": 4
}
